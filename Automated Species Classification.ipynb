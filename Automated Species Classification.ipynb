{
  "nbformat": 4,
  "nbformat_minor": 0,
  "metadata": {
    "colab": {
      "provenance": [],
      "gpuType": "V100"
    },
    "kernelspec": {
      "name": "python3",
      "display_name": "Python 3"
    },
    "language_info": {
      "name": "python"
    },
    "accelerator": "GPU"
  },
  "cells": [
    {
      "cell_type": "code",
      "execution_count": null,
      "metadata": {
        "colab": {
          "base_uri": "https://localhost:8080/"
        },
        "id": "CIGchdUpylbK",
        "outputId": "dcda96fb-d0d6-4d9f-a729-46d40be61a47"
      },
      "outputs": [
        {
          "output_type": "stream",
          "name": "stdout",
          "text": [
            "Looking in indexes: https://pypi.org/simple, https://us-python.pkg.dev/colab-wheels/public/simple/\n",
            "Requirement already satisfied: kaggle in /usr/local/lib/python3.10/dist-packages (1.5.13)\n",
            "Requirement already satisfied: six>=1.10 in /usr/local/lib/python3.10/dist-packages (from kaggle) (1.16.0)\n",
            "Requirement already satisfied: certifi in /usr/local/lib/python3.10/dist-packages (from kaggle) (2022.12.7)\n",
            "Requirement already satisfied: python-dateutil in /usr/local/lib/python3.10/dist-packages (from kaggle) (2.8.2)\n",
            "Requirement already satisfied: requests in /usr/local/lib/python3.10/dist-packages (from kaggle) (2.27.1)\n",
            "Requirement already satisfied: tqdm in /usr/local/lib/python3.10/dist-packages (from kaggle) (4.65.0)\n",
            "Requirement already satisfied: python-slugify in /usr/local/lib/python3.10/dist-packages (from kaggle) (8.0.1)\n",
            "Requirement already satisfied: urllib3 in /usr/local/lib/python3.10/dist-packages (from kaggle) (1.26.15)\n",
            "Requirement already satisfied: text-unidecode>=1.3 in /usr/local/lib/python3.10/dist-packages (from python-slugify->kaggle) (1.3)\n",
            "Requirement already satisfied: charset-normalizer~=2.0.0 in /usr/local/lib/python3.10/dist-packages (from requests->kaggle) (2.0.12)\n",
            "Requirement already satisfied: idna<4,>=2.5 in /usr/local/lib/python3.10/dist-packages (from requests->kaggle) (3.4)\n"
          ]
        }
      ],
      "source": [
        "! pip install kaggle"
      ]
    },
    {
      "cell_type": "code",
      "source": [
        "! mkdir ~/.kaggle\n",
        "!cp /content/drive/MyDrive/kaggle.json ~/.kaggle/kaggle.json"
      ],
      "metadata": {
        "id": "VYXgFhoLyu3_"
      },
      "execution_count": null,
      "outputs": []
    },
    {
      "cell_type": "code",
      "source": [
        "! kaggle datasets download gpiosenka/100-bird-species\n",
        "!unzip -q 100-bird-species.zip -d dataset"
      ],
      "metadata": {
        "colab": {
          "base_uri": "https://localhost:8080/"
        },
        "id": "k7IWDy6NyzYb",
        "outputId": "55d5fa54-2a0a-4d05-e213-673b576d1771"
      },
      "execution_count": null,
      "outputs": [
        {
          "output_type": "stream",
          "name": "stdout",
          "text": [
            "Downloading 100-bird-species.zip to /content\n",
            "100% 1.95G/1.96G [01:06<00:00, 36.0MB/s]\n",
            "100% 1.96G/1.96G [01:06<00:00, 31.7MB/s]\n"
          ]
        }
      ]
    },
    {
      "cell_type": "code",
      "source": [
        "import os\n",
        "import pathlib\n",
        "from glob import glob\n",
        "import numpy as np\n",
        "import random\n",
        "import matplotlib.pyplot as plt\n",
        "import matplotlib.image as mpimg\n",
        "import datetime as dt\n",
        "from sklearn.metrics import precision_recall_fscore_support, accuracy_score\n",
        "from PIL import Image\n",
        "import pandas as pd"
      ],
      "metadata": {
        "id": "OxOIzHUFy-e3"
      },
      "execution_count": null,
      "outputs": []
    },
    {
      "cell_type": "code",
      "source": [
        "!pip install -U -q tensorflow==2.9.0  # tensorflow 2.10 and greater can't export efficientnet models properly"
      ],
      "metadata": {
        "colab": {
          "base_uri": "https://localhost:8080/"
        },
        "id": "XJqIQLqXzENT",
        "outputId": "e0418591-5fdc-4562-9dab-beebbf30d4da"
      },
      "execution_count": null,
      "outputs": [
        {
          "output_type": "stream",
          "name": "stdout",
          "text": [
            "\u001b[2K     \u001b[90m━━━━━━━━━━━━━━━━━━━━━━━━━━━━━━━━━━━━━━━\u001b[0m \u001b[32m511.7/511.7 MB\u001b[0m \u001b[31m1.1 MB/s\u001b[0m eta \u001b[36m0:00:00\u001b[0m\n",
            "\u001b[2K     \u001b[90m━━━━━━━━━━━━━━━━━━━━━━━━━━━━━━━━━━━━━━━━\u001b[0m \u001b[32m1.6/1.6 MB\u001b[0m \u001b[31m31.9 MB/s\u001b[0m eta \u001b[36m0:00:00\u001b[0m\n",
            "\u001b[2K     \u001b[90m━━━━━━━━━━━━━━━━━━━━━━━━━━━━━━━━━━━━━━━━\u001b[0m \u001b[32m42.6/42.6 kB\u001b[0m \u001b[31m1.8 MB/s\u001b[0m eta \u001b[36m0:00:00\u001b[0m\n",
            "\u001b[2K     \u001b[90m━━━━━━━━━━━━━━━━━━━━━━━━━━━━━━━━━━━━━━━━\u001b[0m \u001b[32m5.8/5.8 MB\u001b[0m \u001b[31m50.0 MB/s\u001b[0m eta \u001b[36m0:00:00\u001b[0m\n",
            "\u001b[2K     \u001b[90m━━━━━━━━━━━━━━━━━━━━━━━━━━━━━━━━━━━━━━\u001b[0m \u001b[32m438.7/438.7 kB\u001b[0m \u001b[31m30.4 MB/s\u001b[0m eta \u001b[36m0:00:00\u001b[0m\n",
            "\u001b[2K     \u001b[90m━━━━━━━━━━━━━━━━━━━━━━━━━━━━━━━━━━━━━━━━\u001b[0m \u001b[32m1.1/1.1 MB\u001b[0m \u001b[31m30.7 MB/s\u001b[0m eta \u001b[36m0:00:00\u001b[0m\n",
            "\u001b[2K     \u001b[90m━━━━━━━━━━━━━━━━━━━━━━━━━━━━━━━━━━━━━━━━\u001b[0m \u001b[32m4.9/4.9 MB\u001b[0m \u001b[31m37.7 MB/s\u001b[0m eta \u001b[36m0:00:00\u001b[0m\n",
            "\u001b[?25h\u001b[31mERROR: pip's dependency resolver does not currently take into account all the packages that are installed. This behaviour is the source of the following dependency conflicts.\n",
            "tensorflow-datasets 4.9.2 requires protobuf>=3.20, but you have protobuf 3.19.6 which is incompatible.\n",
            "tensorflow-metadata 1.13.1 requires protobuf<5,>=3.20.3, but you have protobuf 3.19.6 which is incompatible.\u001b[0m\u001b[31m\n",
            "\u001b[0m"
          ]
        }
      ]
    },
    {
      "cell_type": "code",
      "source": [
        "import tensorflow as tf\n",
        "from tensorflow.keras.preprocessing.image import ImageDataGenerator"
      ],
      "metadata": {
        "id": "9incux_tzHmj"
      },
      "execution_count": null,
      "outputs": []
    },
    {
      "cell_type": "code",
      "source": [
        "def calculate_results(y_true, y_pred):\n",
        "    \"\"\"\n",
        "    Calculates model accuracy, precision, recall and f1 score of a binary classification model.\n",
        "\n",
        "    Args:\n",
        "        y_true: true labels in the form of a 1D array\n",
        "        y_pred: predicted labels in the form of a 1D array\n",
        "\n",
        "    Returns a dictionary of accuracy, precision, recall, f1-score.\n",
        "    \"\"\"\n",
        "    # Calculate model accuracy\n",
        "    model_accuracy = accuracy_score(y_true, y_pred)\n",
        "    # Calculate model precision, recall and f1 score using \"weighted average\n",
        "    model_precision, model_recall, model_f1, _ = precision_recall_fscore_support(y_true, y_pred, average=\"weighted\", zero_division=1) # zero division param new\n",
        "    model_results = {\"accuracy\": model_accuracy,\n",
        "                    \"precision\": model_precision,\n",
        "                    \"recall\": model_recall,\n",
        "                    \"f1\": model_f1}\n",
        "    return model_results"
      ],
      "metadata": {
        "id": "aSWUjYfJ2NRj"
      },
      "execution_count": null,
      "outputs": []
    },
    {
      "cell_type": "code",
      "source": [
        "def pred_and_plot9(model, class_names, directory):\n",
        "    random_images = random.sample(os.listdir(directory), 9)\n",
        "    fig, axes = plt.subplots(3, 3, figsize=(9, 9))\n",
        "\n",
        "    for i, image_name in enumerate(random_images):\n",
        "        image_path = os.path.join(directory, image_name)\n",
        "        image_path = os.path.join(image_path, os.listdir(image_path)[0])\n",
        "\n",
        "        if os.path.isfile(image_path):\n",
        "            # Read the image, resize it to match the input size your model expects,\n",
        "            # and normalize it in the same way as your training/test images\n",
        "            img = Image.open(image_path)\n",
        "            img = img.resize((224, 224))  # Resize the image\n",
        "            img_array = np.array(img) / 255.  # Normalize the image\n",
        "            img_array = img_array[:,:,:3] # ensure img is 224,224,3\n",
        "\n",
        "            # Make a prediction\n",
        "            pred = model.predict(np.expand_dims(img_array, axis=0))\n",
        "\n",
        "            # Get the predicted class\n",
        "            pred_class = class_names[np.argmax(pred[0])]\n",
        "\n",
        "            # Plot the image and predicted class\n",
        "            row = i // 3\n",
        "            col = i % 3\n",
        "            axes[row, col].imshow(img)\n",
        "            axes[row, col].set_title(f\"Pred: {pred_class}\\nLabel: {image_name}\")\n",
        "            axes[row, col].axis(False)\n",
        "        else:\n",
        "            print(f\"Skipping {image_path} as it is not a valid image file.\")\n",
        "\n",
        "    plt.tight_layout()\n",
        "    plt.show()"
      ],
      "metadata": {
        "id": "p_kUKq9G2TGt"
      },
      "execution_count": null,
      "outputs": []
    },
    {
      "cell_type": "code",
      "source": [
        "def plot_loss_curves(history):\n",
        "    \"\"\"\n",
        "    Returns separate loss curves for training and validation metrics.\n",
        "    \"\"\"\n",
        "    loss = history.history['loss']\n",
        "    val_loss = history.history['val_loss']\n",
        "\n",
        "    accuracy = history.history['accuracy']\n",
        "    val_accuracy = history.history['val_accuracy']\n",
        "\n",
        "    epochs = range(len(history.history['loss']))\n",
        "\n",
        "    # Plot loss\n",
        "    plt.plot(epochs, loss, label='training_loss')\n",
        "    plt.plot(epochs, val_loss, label='val_loss')\n",
        "    plt.title('Loss')\n",
        "    plt.xlabel('Epochs')\n",
        "    plt.legend()\n",
        "\n",
        "    # Plot accuracy\n",
        "    plt.figure()\n",
        "    plt.plot(epochs, accuracy, label='training_accuracy')\n",
        "    plt.plot(epochs, val_accuracy, label='val_accuracy')\n",
        "    plt.title('Accuracy')\n",
        "    plt.xlabel('Epochs')\n",
        "    plt.legend()\n",
        "    plt.show()"
      ],
      "metadata": {
        "id": "cthtbXkn2fIc"
      },
      "execution_count": null,
      "outputs": []
    },
    {
      "cell_type": "code",
      "source": [
        "def compare_historys(original_history, new_history, initial_epochs=5):\n",
        "    \"\"\"\n",
        "    Compares two model history objects.\n",
        "    \"\"\"\n",
        "    # Get original history measurements\n",
        "    acc = original_history.history[\"accuracy\"]\n",
        "    loss = original_history.history[\"loss\"]\n",
        "\n",
        "\n",
        "    val_acc = original_history.history[\"val_accuracy\"]\n",
        "    val_loss = original_history.history[\"val_loss\"]\n",
        "\n",
        "    # Combine original history with new history\n",
        "    total_acc = acc + new_history.history[\"accuracy\"]\n",
        "    total_loss = loss + new_history.history[\"loss\"]\n",
        "\n",
        "    total_val_acc = val_acc + new_history.history[\"val_accuracy\"]\n",
        "    total_val_loss = val_loss + new_history.history[\"val_loss\"]\n",
        "\n",
        "    # print(len(total_acc))\n",
        "    # print(total_acc)\n",
        "\n",
        "    # Make plots\n",
        "    plt.figure(figsize=(8, 8))\n",
        "    plt.subplot(2, 1, 1)\n",
        "    plt.plot(total_acc, label='Training Accuracy')\n",
        "    plt.plot(total_val_acc, label='Validation Accuracy')\n",
        "    plt.plot([initial_epochs-1, initial_epochs-1],\n",
        "              plt.ylim(), label='Start Fine Tuning') # reshift plot around epochs\n",
        "    plt.legend(loc='lower right')\n",
        "    plt.title('Training and Validation Accuracy')\n",
        "\n",
        "    plt.subplot(2, 1, 2)\n",
        "    plt.plot(total_loss, label='Training Loss')\n",
        "    plt.plot(total_val_loss, label='Validation Loss')\n",
        "    plt.plot([initial_epochs-1, initial_epochs-1],\n",
        "              plt.ylim(), label='Start Fine Tuning') # reshift plot around epochs\n",
        "    plt.legend(loc='upper right')\n",
        "    plt.title('Training and Validation Loss')\n",
        "    plt.xlabel('epoch')\n",
        "    plt.show()"
      ],
      "metadata": {
        "id": "yuMzT15Y2Xs7"
      },
      "execution_count": null,
      "outputs": []
    },
    {
      "cell_type": "code",
      "source": [
        "train_dir = \"dataset/train\"\n",
        "valid_dir = \"dataset/valid\"\n",
        "test_dir = \"dataset/test\"\n",
        "IMAGE_DIMENSIONS = (380, 380) # efficientnetB4 image size\n",
        "\n",
        "data_gen = ImageDataGenerator()  # don't use rescale=1./255 because EfficientNetBx doesn't want rescaled data\n",
        "\n",
        "train_data = data_gen.flow_from_directory(directory=train_dir,\n",
        "                                          target_size=IMAGE_DIMENSIONS,\n",
        "                                          class_mode=\"categorical\",\n",
        "                                          batch_size=32,\n",
        "                                          seed=42,\n",
        "                                          shuffle=True)\n",
        "\n",
        "valid_data = data_gen.flow_from_directory(valid_dir,\n",
        "                                          batch_size=32,\n",
        "                                          target_size=IMAGE_DIMENSIONS,\n",
        "                                          class_mode=\"categorical\",\n",
        "                                          seed=42,\n",
        "                                          shuffle=False)  # don't shuffle validation or test data so labels are ordered correctly when evaluation\n",
        "\n",
        "test_data = data_gen.flow_from_directory(test_dir,\n",
        "                                         batch_size=32,\n",
        "                                         target_size=IMAGE_DIMENSIONS,\n",
        "                                         class_mode=\"categorical\",\n",
        "                                         seed=42,\n",
        "                                         shuffle=False)"
      ],
      "metadata": {
        "colab": {
          "base_uri": "https://localhost:8080/"
        },
        "id": "h_Zc3Xyi0iLU",
        "outputId": "ddc34167-1d3a-40c2-d8e1-fe687ac4105a"
      },
      "execution_count": null,
      "outputs": [
        {
          "output_type": "stream",
          "name": "stdout",
          "text": [
            "Found 84635 images belonging to 525 classes.\n",
            "Found 2625 images belonging to 525 classes.\n",
            "Found 2625 images belonging to 525 classes.\n"
          ]
        }
      ]
    },
    {
      "cell_type": "code",
      "source": [
        "data_augmentation = tf.keras.models.Sequential([\n",
        "    tf.keras.layers.RandomFlip(\"horizontal\"),\n",
        "    tf.keras.layers.RandomHeight(0.2),\n",
        "    tf.keras.layers.RandomWidth(0.2),\n",
        "    tf.keras.layers.RandomZoom(0.2),\n",
        "    tf.keras.layers.RandomRotation(0.2),\n",
        "    tf.keras.layers.RandomContrast(factor=0.1),\n",
        "], name=\"data_augmentation_layer\")"
      ],
      "metadata": {
        "id": "EFNFp2VczRry"
      },
      "execution_count": null,
      "outputs": []
    },
    {
      "cell_type": "code",
      "source": [
        "INPUT_SHAPE = IMAGE_DIMENSIONS + (3,)\n",
        "\n",
        "# create frozen base model\n",
        "base_model = tf.keras.applications.EfficientNetB4(include_top=False, drop_connect_rate=0.4) # default drop_connect_rate is 0.2, 0.4 increases regularization\n",
        "base_model.trainable = False\n",
        "\n",
        "# create inputs and outputs and layers between\n",
        "inputs = tf.keras.layers.Input(shape=INPUT_SHAPE, name=\"input_layer\")\n",
        "x = data_augmentation(inputs)\n",
        "x = base_model(x, training=False) # pass augmented images to base model but keep it in inference mode, so batch norm layers don't get updated. we want this even in fine tuning\n",
        "\n",
        "x = tf.keras.layers.GlobalAveragePooling2D(name=\"global_avg_pooling2d\")(x) # turn base model into feature vector\n",
        "x = tf.keras.layers.Dropout(0.2, name=\"droupout_layer\")(x) # droupout to reduce overfitting\n",
        "\n",
        "outputs = tf.keras.layers.Dense(525, activation=\"softmax\", name=\"output_layer\")(x)\n",
        "\n",
        "model = tf.keras.Model(inputs, outputs)\n",
        "\n",
        "model.compile(loss=tf.keras.losses.CategoricalCrossentropy(),\n",
        "              optimizer=tf.keras.optimizers.Adam(),\n",
        "              metrics=[\"accuracy\"])"
      ],
      "metadata": {
        "id": "it7mOerOzWEf"
      },
      "execution_count": null,
      "outputs": []
    },
    {
      "cell_type": "code",
      "source": [
        "initial_epochs = 5\n",
        "\n",
        "model_history = model.fit(train_data,\n",
        "                          epochs=initial_epochs,\n",
        "                          steps_per_epoch=len(train_data),\n",
        "                          validation_data=valid_data,\n",
        "                          validation_steps=int(0.1 * len(valid_data))) # didn't use callbacks to save time bc I never use them"
      ],
      "metadata": {
        "colab": {
          "base_uri": "https://localhost:8080/"
        },
        "id": "CVQzU__93PPt",
        "outputId": "1384b561-c17f-44cc-c9c2-de3943bfb107"
      },
      "execution_count": null,
      "outputs": [
        {
          "output_type": "stream",
          "name": "stdout",
          "text": [
            "Epoch 1/5\n",
            "2645/2645 [==============================] - 1118s 422ms/step - loss: 1.2420 - accuracy: 0.7492 - val_loss: 0.6440 - val_accuracy: 0.8438\n",
            "Epoch 2/5\n",
            "2645/2645 [==============================] - 983s 372ms/step - loss: 0.5766 - accuracy: 0.8591 - val_loss: 0.4894 - val_accuracy: 0.8750\n",
            "Epoch 3/5\n",
            "2645/2645 [==============================] - 942s 356ms/step - loss: 0.4653 - accuracy: 0.8800 - val_loss: 0.4168 - val_accuracy: 0.8945\n",
            "Epoch 4/5\n",
            "2645/2645 [==============================] - 898s 339ms/step - loss: 0.4066 - accuracy: 0.8936 - val_loss: 0.4232 - val_accuracy: 0.8750\n",
            "Epoch 5/5\n",
            "2645/2645 [==============================] - 888s 336ms/step - loss: 0.3642 - accuracy: 0.9024 - val_loss: 0.4161 - val_accuracy: 0.8789\n"
          ]
        }
      ]
    },
    {
      "cell_type": "code",
      "source": [
        "model_initial_results = calculate_results(valid_data.labels, np.argmax(model.predict(valid_data), axis=1))\n",
        "model_initial_results"
      ],
      "metadata": {
        "colab": {
          "base_uri": "https://localhost:8080/"
        },
        "id": "gfk9kLCW3hMS",
        "outputId": "0e1bd12a-80fa-4b7f-8a3f-b675f7536aa6"
      },
      "execution_count": null,
      "outputs": [
        {
          "output_type": "stream",
          "name": "stdout",
          "text": [
            "83/83 [==============================] - 15s 144ms/step\n"
          ]
        },
        {
          "output_type": "execute_result",
          "data": {
            "text/plain": [
              "{'accuracy': 0.9462857142857143,\n",
              " 'precision': 0.9587165532879818,\n",
              " 'recall': 0.9462857142857143,\n",
              " 'f1': 0.9454263856280662}"
            ]
          },
          "metadata": {},
          "execution_count": 21
        }
      ]
    },
    {
      "cell_type": "code",
      "source": [
        "plot_loss_curves(model_history)"
      ],
      "metadata": {
        "colab": {
          "base_uri": "https://localhost:8080/",
          "height": 927
        },
        "id": "IIHJRQ_c3izJ",
        "outputId": "ce3993fc-5e70-49f8-96bd-42fd1ccc18cc"
      },
      "execution_count": null,
      "outputs": [
        {
          "output_type": "display_data",
          "data": {
            "text/plain": [
              "<Figure size 640x480 with 1 Axes>"
            ],
            "image/png": "[encoded data removed]"
          },
          "metadata": {}
        },
        {
          "output_type": "display_data",
          "data": {
            "text/plain": [
              "<Figure size 640x480 with 1 Axes>"
            ],
            "image/png": "[encoded data removed]"
          },
          "metadata": {}
        }
      ]
    },
    {
      "cell_type": "code",
      "source": [
        "base_model.trainable = True\n",
        "\n",
        "# allow training of last 5 layers of EfficientNet\n",
        "for layer in base_model.layers[:-5]:\n",
        "    layer.trainable = False\n",
        "\n",
        "\n",
        "# recompile model whenever we make a change\n",
        "model.compile(loss=tf.keras.losses.CategoricalCrossentropy(),\n",
        "              optimizer=tf.keras.optimizers.Adam(learning_rate=1e-4),  # lower learning rate for fine tuning because the unfrozen layers have already learned\n",
        "              metrics=[\"accuracy\"])"
      ],
      "metadata": {
        "id": "eztFmubo3rW0"
      },
      "execution_count": null,
      "outputs": []
    },
    {
      "cell_type": "code",
      "source": [
        "# fine tune for another 3 epochs\n",
        "fine_tune_epochs = initial_epochs + 3\n",
        "\n",
        "# refit model (same as without fine-tuning, but has more trainable layers)\n",
        "model_fine_tune_history = model.fit(train_data,\n",
        "                                    epochs=fine_tune_epochs,\n",
        "                                    steps_per_epoch=(len(train_data)),\n",
        "                                    validation_data=valid_data,\n",
        "                                    validation_steps=int(0.1 * len(valid_data)),\n",
        "                                    initial_epoch=model_history.epoch[-1], # start training from previous last epoch\n",
        "                                    )"
      ],
      "metadata": {
        "colab": {
          "base_uri": "https://localhost:8080/"
        },
        "id": "Ozj0CkiGWFB3",
        "outputId": "e75aae03-eef2-403a-f068-0334683eb35c"
      },
      "execution_count": null,
      "outputs": [
        {
          "output_type": "stream",
          "name": "stdout",
          "text": [
            "Epoch 5/8\n"
          ]
        },
        {
          "output_type": "stream",
          "name": "stderr",
          "text": [
            "WARNING:tensorflow:Using a while_loop for converting RngReadAndSkip\n",
            "WARNING:tensorflow:Using a while_loop for converting Bitcast\n",
            "WARNING:tensorflow:Using a while_loop for converting Bitcast\n",
            "WARNING:tensorflow:Using a while_loop for converting StatelessRandomUniformFullIntV2\n",
            "WARNING:tensorflow:Using a while_loop for converting StatelessRandomGetKeyCounter\n",
            "WARNING:tensorflow:Using a while_loop for converting StatelessRandomUniformV2\n",
            "WARNING:tensorflow:Using a while_loop for converting AdjustContrastv2\n",
            "WARNING:tensorflow:Using a while_loop for converting RngReadAndSkip\n",
            "WARNING:tensorflow:Using a while_loop for converting Bitcast\n",
            "WARNING:tensorflow:Using a while_loop for converting Bitcast\n",
            "WARNING:tensorflow:Using a while_loop for converting StatelessRandomUniformFullIntV2\n",
            "WARNING:tensorflow:Using a while_loop for converting StatelessRandomGetKeyCounter\n",
            "WARNING:tensorflow:Using a while_loop for converting StatelessRandomUniformV2\n",
            "WARNING:tensorflow:Using a while_loop for converting AdjustContrastv2\n"
          ]
        },
        {
          "output_type": "stream",
          "name": "stdout",
          "text": [
            "2645/2645 [==============================] - 913s 339ms/step - loss: 0.2773 - accuracy: 0.9252 - val_loss: 0.3597 - val_accuracy: 0.9141\n",
            "Epoch 6/8\n",
            "2645/2645 [==============================] - 863s 326ms/step - loss: 0.2484 - accuracy: 0.9325 - val_loss: 0.3410 - val_accuracy: 0.9219\n",
            "Epoch 7/8\n",
            "2645/2645 [==============================] - 867s 328ms/step - loss: 0.2260 - accuracy: 0.9378 - val_loss: 0.3238 - val_accuracy: 0.9219\n",
            "Epoch 8/8\n",
            "2645/2645 [==============================] - 863s 326ms/step - loss: 0.2173 - accuracy: 0.9397 - val_loss: 0.3284 - val_accuracy: 0.9141\n"
          ]
        }
      ]
    },
    {
      "cell_type": "code",
      "source": [
        "model_tuned_predicted_val_labels = np.argmax(model.predict(valid_data), axis=1)\n",
        "model_tuned_predicted_test_labels = np.argmax(model.predict(test_data), axis=1)"
      ],
      "metadata": {
        "colab": {
          "base_uri": "https://localhost:8080/"
        },
        "id": "MwFpI5QPWXLD",
        "outputId": "064c268e-929b-4e24-d1b9-a5826a228fd4"
      },
      "execution_count": null,
      "outputs": [
        {
          "output_type": "stream",
          "name": "stdout",
          "text": [
            "83/83 [==============================] - 12s 101ms/step\n",
            "83/83 [==============================] - 12s 143ms/step\n"
          ]
        }
      ]
    },
    {
      "cell_type": "code",
      "source": [
        "model_tuned_results = calculate_results(valid_data.labels, model_tuned_predicted_val_labels)\n",
        "model_tuned_results"
      ],
      "metadata": {
        "colab": {
          "base_uri": "https://localhost:8080/"
        },
        "id": "LjFR278UWRXe",
        "outputId": "4b231d4c-bd8a-4b1f-8513-73f20e395d49"
      },
      "execution_count": null,
      "outputs": [
        {
          "output_type": "execute_result",
          "data": {
            "text/plain": [
              "{'accuracy': 0.9573333333333334,\n",
              " 'precision': 0.9659931972789115,\n",
              " 'recall': 0.9573333333333334,\n",
              " 'f1': 0.9564192527049669}"
            ]
          },
          "metadata": {},
          "execution_count": 26
        }
      ]
    },
    {
      "cell_type": "code",
      "source": [
        "model_test_results = calculate_results(test_data.labels, model_tuned_predicted_test_labels)\n",
        "model_test_results"
      ],
      "metadata": {
        "colab": {
          "base_uri": "https://localhost:8080/"
        },
        "id": "BXpEAHu-X33B",
        "outputId": "252a15a5-387a-4db9-f8fc-b3d73ee2f6e1"
      },
      "execution_count": null,
      "outputs": [
        {
          "output_type": "execute_result",
          "data": {
            "text/plain": [
              "{'accuracy': 0.9782857142857143,\n",
              " 'precision': 0.981859410430839,\n",
              " 'recall': 0.9782857142857143,\n",
              " 'f1': 0.9778991378991378}"
            ]
          },
          "metadata": {},
          "execution_count": 27
        }
      ]
    }
  ]
}